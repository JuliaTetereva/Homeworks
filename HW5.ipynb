{
 "cells": [
  {
   "cell_type": "code",
   "execution_count": 16,
   "id": "c09d2b17",
   "metadata": {},
   "outputs": [
    {
     "name": "stdout",
     "output_type": "stream",
     "text": [
      "Студента зовут Ivan, возраст: 18, группа: 10A\n",
      "Студента зовут Julia, возраст: 21, группа: 13D\n",
      "Студента зовут Anastasia, возраст: 22, группа: 12F\n",
      "Студента зовут Олег, возраст: 23, группа: 12С\n",
      "Студента зовут Alexei, возраст: 20, группа: 13K\n"
     ]
    }
   ],
   "source": [
    "class Student:\n",
    "    def __init__(self, name='Ivan', groupNumber='10A', age=18):\n",
    "        self.name=name\n",
    "        self.groupNumber=groupNumber\n",
    "        self.age=age\n",
    "        \n",
    "    def getName(self):\n",
    "        return self.name\n",
    "    \n",
    "    def getGroupNumber(self): \n",
    "        return self.groupNumber\n",
    "    \n",
    "    def getAge(self):\n",
    "        return self.age\n",
    "    \n",
    "    def setNameAge(self, n, a):\n",
    "        self.name=n\n",
    "        self.age=a\n",
    "    \n",
    "    def setGroupNumber(self, num): \n",
    "        self.groupNumber=num\n",
    "    \n",
    "    def __str__(self):\n",
    "        return 'Студента зовут '+self.name+', возраст: '+str(self.age)+', группа: '+self.groupNumber\n",
    "    \n",
    "student1=Student()\n",
    "student2=Student('Julia','11Б',21)\n",
    "student3=Student(age=19,name='Anna',groupNumber='12F')\n",
    "student4=Student('Олег','12С',23)\n",
    "student5=Student('Alexei','13K',20)\n",
    "\n",
    "student3.setNameAge('Anastasia', 22)\n",
    "student2.setGroupNumber('13D')\n",
    "\n",
    "print(student1)\n",
    "print(student2)\n",
    "print(student3)\n",
    "print(student4)\n",
    "print(student5)"
   ]
  },
  {
   "cell_type": "code",
   "execution_count": 20,
   "id": "871ac95f",
   "metadata": {},
   "outputs": [
    {
     "name": "stdout",
     "output_type": "stream",
     "text": [
      "Машина white, возраст: 2017, марка: BMW\n",
      "Машина red, возраст: 2015, марка: Mersedes\n"
     ]
    }
   ],
   "source": [
    "class Car:\n",
    "    def __init__(self, color, type, year):\n",
    "        self.color=color\n",
    "        self.type=type\n",
    "        self.year=year\n",
    "    \n",
    "    def __str__(self):\n",
    "        return 'Машина '+self.color+', возраст: '+str(self.year)+', марка: '+self.type\n",
    "    \n",
    "    def start(self):\n",
    "        print('Машина заведена')\n",
    "    \n",
    "    def stop(self):\n",
    "         print('Автомобиль заглушен')\n",
    "        \n",
    "    def setColor(self, c): \n",
    "        self.color=c\n",
    "    \n",
    "    def setType(self, t): \n",
    "        self.type=t\n",
    "    \n",
    "    def setYear(self, y): \n",
    "        self.year=y\n",
    "    \n",
    "car1=Car('blue','BMW',2020)\n",
    "car2=Car('red','Lada',2015)\n",
    "car1.setColor('white')\n",
    "car2.setType('Mersedes')\n",
    "car1.setYear(2017)\n",
    "\n",
    "print(car1)\n",
    "print(car2)"
   ]
  },
  {
   "cell_type": "code",
   "execution_count": 25,
   "id": "0a6ae842",
   "metadata": {},
   "outputs": [
    {
     "name": "stdout",
     "output_type": "stream",
     "text": [
      "Nutrition p 3, c 6, f 9\n"
     ]
    },
    {
     "data": {
      "text/plain": [
       "118"
      ]
     },
     "execution_count": 25,
     "metadata": {},
     "output_type": "execute_result"
    }
   ],
   "source": [
    "class NutritionInfo:\n",
    "    def __init__(self, proteins, carbs, fats):\n",
    "        self.proteins = proteins\n",
    "        self.carbs = carbs\n",
    "        self.fats = fats\n",
    "    \n",
    "    def __add__(self, other):\n",
    "        return NutritionInfo(self.proteins + other.proteins, self.carbs + other.carbs, self.fats + other.fats)\n",
    "    \n",
    "    def __str__(self):\n",
    "        return f\"Nutrition p {self.proteins}, c {self.carbs}, f {self.fats}\"\n",
    "        \n",
    "    def energy(self):\n",
    "        return int(self.fats * 9 + (self.carbs + self.proteins) * 4.2)\n",
    "    \n",
    "    def __mul__(self, n):\n",
    "        return NutritionInfo(self.proteins * n, self.carbs * n, self.fats * n)\n",
    "\n",
    "egg = NutritionInfo(1, 2, 3)\n",
    "pastila = NutritionInfo(1, 2, 3)\n",
    "tvorog_9 = NutritionInfo(18, 3, 9)\n",
    "apple = NutritionInfo(0, 25, 0)\n",
    "\n",
    "breakfast = egg * 3\n",
    "print(breakfast)\n",
    "breakfast.energy()"
   ]
  }
 ],
 "metadata": {
  "kernelspec": {
   "display_name": "Python 3 (ipykernel)",
   "language": "python",
   "name": "python3"
  },
  "language_info": {
   "codemirror_mode": {
    "name": "ipython",
    "version": 3
   },
   "file_extension": ".py",
   "mimetype": "text/x-python",
   "name": "python",
   "nbconvert_exporter": "python",
   "pygments_lexer": "ipython3",
   "version": "3.9.7"
  }
 },
 "nbformat": 4,
 "nbformat_minor": 5
}
