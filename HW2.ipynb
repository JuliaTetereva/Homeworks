{
 "cells": [
  {
   "cell_type": "code",
   "execution_count": 18,
   "id": "6522ea96",
   "metadata": {},
   "outputs": [
    {
     "name": "stdout",
     "output_type": "stream",
     "text": [
      "Введите число от 1 до 12:4\n",
      "Это Апрель\n"
     ]
    }
   ],
   "source": [
    "months=['Январь', 'Февраль', 'Март', 'Апрель', 'Май', 'Июнь', 'Июль', 'Август', 'Сентябрь', 'Октябрь', 'Ноябрь', 'Декабрь']\n",
    "i=int(input('Введите число от 1 до 12:'))\n",
    "if i<1 or i>12:\n",
    "    print('Неверное число!')\n",
    "else:\n",
    "    print('Это',months[i-1])"
   ]
  },
  {
   "cell_type": "code",
   "execution_count": 26,
   "id": "e190404f",
   "metadata": {},
   "outputs": [
    {
     "name": "stdout",
     "output_type": "stream",
     "text": [
      "НОД= 600\n"
     ]
    }
   ],
   "source": [
    "a=int(input('Введите 1 число:'))     #первый способ\n",
    "b=int(input('Введите 2 число:'))\n",
    "import math \n",
    "print('НОД=', math.gcd(a, b)) "
   ]
  },
  {
   "cell_type": "code",
   "execution_count": 96,
   "id": "97b771c5",
   "metadata": {},
   "outputs": [
    {
     "name": "stdout",
     "output_type": "stream",
     "text": [
      "Введите 1 число:2017\n",
      "Введите 2 число:6\n",
      "НОД= 1\n"
     ]
    }
   ],
   "source": [
    "a=int(input('Введите 1 число:'))     #второй способ\n",
    "b=int(input('Введите 2 число:'))\n",
    "if a > b:  \n",
    "    temp = b \n",
    "else: \n",
    "    temp = a \n",
    "for i in range(1, temp + 1): \n",
    "    if(( a % i == 0) and(b % i == 0 )): \n",
    "        nod = i \n",
    "print('НОД=',nod)"
   ]
  },
  {
   "cell_type": "code",
   "execution_count": 98,
   "id": "4d66abc7",
   "metadata": {},
   "outputs": [
    {
     "name": "stdout",
     "output_type": "stream",
     "text": [
      "Допустимое расширение файла\n"
     ]
    }
   ],
   "source": [
    "file='Моя диссертац.gif'\n",
    "txe=''\n",
    "extensions = ['png', 'jpg', 'jpeg', 'gif', 'svg']\n",
    "for i in range(len(file)-1,0,-1): \n",
    "    if file[i]!='.':\n",
    "        txe=txe+file[i]\n",
    "    else:\n",
    "        break\n",
    "ext=txe[::-1]\n",
    "if ext in extensions:\n",
    "    print('Допустимое расширение файла')\n",
    "else: \n",
    "    print('Недопустимое расширение файла') \n"
   ]
  },
  {
   "cell_type": "code",
   "execution_count": 105,
   "id": "bca4e99b",
   "metadata": {},
   "outputs": [
    {
     "name": "stdout",
     "output_type": "stream",
     "text": [
      "Невисокосный\n"
     ]
    }
   ],
   "source": [
    "year=2021\n",
    "if year%400==0:\n",
    "    print('Високосный')\n",
    "elif year%100==0:\n",
    "    print('Невисокосный')\n",
    "elif year%4==0:\n",
    "    print('Високосный')\n",
    "else:\n",
    "    print('Невисокосный')"
   ]
  }
 ],
 "metadata": {
  "kernelspec": {
   "display_name": "Python 3 (ipykernel)",
   "language": "python",
   "name": "python3"
  },
  "language_info": {
   "codemirror_mode": {
    "name": "ipython",
    "version": 3
   },
   "file_extension": ".py",
   "mimetype": "text/x-python",
   "name": "python",
   "nbconvert_exporter": "python",
   "pygments_lexer": "ipython3",
   "version": "3.9.7"
  }
 },
 "nbformat": 4,
 "nbformat_minor": 5
}
