{
 "cells": [
  {
   "cell_type": "markdown",
   "id": "72c6a7eb",
   "metadata": {},
   "source": [
    "Задание 1. Связаные списки"
   ]
  },
  {
   "cell_type": "code",
   "execution_count": 2,
   "id": "d9657754",
   "metadata": {},
   "outputs": [
    {
     "name": "stdout",
     "output_type": "stream",
     "text": [
      "[Value of this Node is 1]\n",
      "[Value of this Node is 2]\n",
      "[Value of this Node is 3]\n",
      "[Value of this Node is 4]\n",
      "[Value of this Node is Hello]\n",
      "[Value of this Node is 5]\n",
      "---\n",
      "[Value of this Node is 5]\n",
      "[Value of this Node is Hello]\n",
      "[Value of this Node is 4]\n",
      "[Value of this Node is 3]\n",
      "[Value of this Node is 2]\n",
      "[Value of this Node is 1]\n"
     ]
    }
   ],
   "source": [
    "class Node(object):\n",
    "    def __init__(self, value=None, next_=None):\n",
    "        self.value = value\n",
    "        self.next = next_\n",
    "\n",
    "    def __str__(self):\n",
    "        return f\"[Value of this Node is {self.value}]\"\n",
    "\n",
    "\n",
    "def print_linked_list(head):\n",
    "    current = head\n",
    "    while current is not None:\n",
    "        print(current)\n",
    "        current = current.next\n",
    "        \n",
    "def reverse_linked_list(head, tail=None):\n",
    "    while head is not None:\n",
    "        head.next, tail, head = tail, head, head.next\n",
    "    return tail\n",
    "    \n",
    "\n",
    "h, a, b, c, d, t = Node(1), Node(2), Node(3), Node(4), Node(\"Hello\"), Node(5)\n",
    "\n",
    "h.next = a\n",
    "a.next = b\n",
    "b.next = c\n",
    "c.next = d\n",
    "d.next = t\n",
    "\n",
    "print_linked_list(h)\n",
    "h = reverse_linked_list(h)\n",
    "print(\"---\")\n",
    "print_linked_list(h)"
   ]
  },
  {
   "cell_type": "markdown",
   "id": "fa969205",
   "metadata": {},
   "source": [
    "Задание 2. Сортировка пузырьком"
   ]
  },
  {
   "cell_type": "code",
   "execution_count": 7,
   "id": "11700cd7",
   "metadata": {},
   "outputs": [
    {
     "name": "stdout",
     "output_type": "stream",
     "text": [
      "[Value of this Node is 10]\n",
      "[Value of this Node is 3]\n",
      "[Value of this Node is 11]\n",
      "[Value of this Node is 5]\n",
      "[Value of this Node is -2]\n",
      "[Value of this Node is 0]\n",
      "------\n",
      "[Value of this Node is -2]\n",
      "[Value of this Node is 0]\n",
      "[Value of this Node is 3]\n",
      "[Value of this Node is 5]\n",
      "[Value of this Node is 10]\n",
      "[Value of this Node is 11]\n"
     ]
    }
   ],
   "source": [
    "class Node(object):\n",
    "    def __init__(self, value=None, next_=None):\n",
    "        self.value = value\n",
    "        self.next = next_\n",
    "\n",
    "    def __str__(self):\n",
    "        return f\"[Value of this Node is {self.value}]\"\n",
    "\n",
    "\n",
    "def print_linked_list(head):\n",
    "    current = head\n",
    "    while current is not None:\n",
    "        print(current)\n",
    "        current = current.next\n",
    "        \n",
    "h, a, b, c, d, e = Node(10), Node(3), Node(11), Node(5), Node(-2), Node(0)\n",
    "\n",
    "h.next = a\n",
    "a.next = b\n",
    "b.next = c\n",
    "c.next = d\n",
    "d.next = e\n",
    "\n",
    "print_linked_list(h)\n",
    "print('------')\n",
    "\n",
    "def sort_linked_list(head):\n",
    "    tail = None\n",
    "    while tail != head:\n",
    "        i = head\n",
    "        while i.next != tail:\n",
    "            j = i.next\n",
    "            if i.value > j.value:\n",
    "                i.value, j.value = j.value, i.value\n",
    "            i = i.next\n",
    "        tail = i\n",
    "\n",
    "sort_linked_list(h)\n",
    "print_linked_list(h)"
   ]
  },
  {
   "cell_type": "markdown",
   "id": "8f99a0a3",
   "metadata": {},
   "source": [
    "Задания Pandas\n",
    "1. Средний полный счёт по пятницам на ланч у курящих мужчин"
   ]
  },
  {
   "cell_type": "code",
   "execution_count": 16,
   "id": "9163f17c",
   "metadata": {},
   "outputs": [
    {
     "name": "stdout",
     "output_type": "stream",
     "text": [
      "Cреднее значение полного счета ровно 11.386666666666668\n"
     ]
    }
   ],
   "source": [
    "import pandas as pd\n",
    "df = pd.read_csv(\"C:\\\\Users\\\\yuliya.tetereva\\\\python\\\\tips.csv\")\n",
    "masque = df[\"sex\"] == \"Male\"\n",
    "masque &= df[\"day\"] == \"Fri\"\n",
    "masque &= df[\"smoker\"] == \"Yes\"\n",
    "masque &= df[\"time\"] == \"Lunch\"\n",
    "print(f'Cреднее значение полного счета ровно {df[masque][\"total_bill\"].mean()}')"
   ]
  },
  {
   "cell_type": "code",
   "execution_count": null,
   "id": "7e0f7781",
   "metadata": {},
   "outputs": [],
   "source": [
    "2. Разбросы по всем числовым значениям для всех трёх классов цветов"
   ]
  },
  {
   "cell_type": "code",
   "execution_count": 13,
   "id": "6c1dcb0d",
   "metadata": {},
   "outputs": [
    {
     "name": "stdout",
     "output_type": "stream",
     "text": [
      "Числовые значение по классу Iris-setosa варьируются от минимального значения:\n",
      "\n",
      " SepalLength            4.3\n",
      "SepalWidth             2.3\n",
      "PetalLength            1.0\n",
      "PetalWidth             0.1\n",
      "Name           Iris-setosa\n",
      "dtype: object \n",
      "\n",
      "до максимального:\n",
      "\n",
      " SepalLength            5.8\n",
      "SepalWidth             4.4\n",
      "PetalLength            1.9\n",
      "PetalWidth             0.6\n",
      "Name           Iris-setosa\n",
      "dtype: object \n",
      "-----------------------\n",
      "\n",
      "Числовые значение по классу Iris-versicolor варьируются от минимального значения:\n",
      "\n",
      " SepalLength                4.9\n",
      "SepalWidth                 2.0\n",
      "PetalLength                3.0\n",
      "PetalWidth                 1.0\n",
      "Name           Iris-versicolor\n",
      "dtype: object \n",
      "\n",
      "до максимального:\n",
      "\n",
      " SepalLength                7.0\n",
      "SepalWidth                 3.4\n",
      "PetalLength                5.1\n",
      "PetalWidth                 1.8\n",
      "Name           Iris-versicolor\n",
      "dtype: object \n",
      "-----------------------\n",
      "\n",
      "Числовые значение по классу Iris-virginica варьируются от минимального значения:\n",
      "\n",
      " SepalLength               4.9\n",
      "SepalWidth                2.2\n",
      "PetalLength               4.5\n",
      "PetalWidth                1.4\n",
      "Name           Iris-virginica\n",
      "dtype: object \n",
      "\n",
      "до максимального:\n",
      "\n",
      " SepalLength               7.9\n",
      "SepalWidth                3.8\n",
      "PetalLength               6.9\n",
      "PetalWidth                2.5\n",
      "Name           Iris-virginica\n",
      "dtype: object\n"
     ]
    }
   ],
   "source": [
    "import pandas as pd\n",
    "df = pd.read_csv(\"C:\\\\Users\\\\yuliya.tetereva\\\\python\\\\iris.csv\")\n",
    "masque_1 = df[\"Name\"] == \"Iris-setosa\"\n",
    "masque_2 = df[\"Name\"] == \"Iris-versicolor\"\n",
    "masque_3 = df[\"Name\"] == \"Iris-virginica\"\n",
    "print('Числовые значение по классу Iris-setosa варьируются от минимального значения:\\n\\n', df[masque_1].min(), \n",
    "      '\\n\\nдо максимального:\\n\\n', df[masque_1].max(), '\\n-----------------------\\n')\n",
    "print('Числовые значение по классу Iris-versicolor варьируются от минимального значения:\\n\\n', df[masque_2].min(), \n",
    "      '\\n\\nдо максимального:\\n\\n', df[masque_2].max(), '\\n-----------------------\\n')\n",
    "print('Числовые значение по классу Iris-virginica варьируются от минимального значения:\\n\\n', df[masque_3].min(), \n",
    "      '\\n\\nдо максимального:\\n\\n', df[masque_3].max())"
   ]
  },
  {
   "cell_type": "code",
   "execution_count": null,
   "id": "d37d4020",
   "metadata": {},
   "outputs": [],
   "source": [
    "3. Плотность населения"
   ]
  },
  {
   "cell_type": "code",
   "execution_count": 18,
   "id": "fc293058",
   "metadata": {},
   "outputs": [
    {
     "data": {
      "text/html": [
       "<div>\n",
       "<style scoped>\n",
       "    .dataframe tbody tr th:only-of-type {\n",
       "        vertical-align: middle;\n",
       "    }\n",
       "\n",
       "    .dataframe tbody tr th {\n",
       "        vertical-align: top;\n",
       "    }\n",
       "\n",
       "    .dataframe thead th {\n",
       "        text-align: right;\n",
       "    }\n",
       "</style>\n",
       "<table border=\"1\" class=\"dataframe\">\n",
       "  <thead>\n",
       "    <tr style=\"text-align: right;\">\n",
       "      <th></th>\n",
       "      <th>Страна</th>\n",
       "      <th>population</th>\n",
       "      <th>Площадь</th>\n",
       "      <th>Density</th>\n",
       "    </tr>\n",
       "  </thead>\n",
       "  <tbody>\n",
       "    <tr>\n",
       "      <th>0</th>\n",
       "      <td>Kazakhstan</td>\n",
       "      <td>17.04</td>\n",
       "      <td>2724902</td>\n",
       "      <td>0.000006</td>\n",
       "    </tr>\n",
       "    <tr>\n",
       "      <th>1</th>\n",
       "      <td>Russia</td>\n",
       "      <td>143.50</td>\n",
       "      <td>17125191</td>\n",
       "      <td>0.000008</td>\n",
       "    </tr>\n",
       "    <tr>\n",
       "      <th>2</th>\n",
       "      <td>Belarus</td>\n",
       "      <td>9.50</td>\n",
       "      <td>207600</td>\n",
       "      <td>0.000046</td>\n",
       "    </tr>\n",
       "    <tr>\n",
       "      <th>3</th>\n",
       "      <td>Ukraine</td>\n",
       "      <td>45.50</td>\n",
       "      <td>603628</td>\n",
       "      <td>0.000075</td>\n",
       "    </tr>\n",
       "  </tbody>\n",
       "</table>\n",
       "</div>"
      ],
      "text/plain": [
       "       Страна  population   Площадь   Density\n",
       "0  Kazakhstan       17.04   2724902  0.000006\n",
       "1      Russia      143.50  17125191  0.000008\n",
       "2     Belarus        9.50    207600  0.000046\n",
       "3     Ukraine       45.50    603628  0.000075"
      ]
     },
     "execution_count": 18,
     "metadata": {},
     "output_type": "execute_result"
    }
   ],
   "source": [
    "import pandas as pd\n",
    "df = pd.DataFrame({\n",
    "     'country': ['Kazakhstan', 'Russia', 'Belarus', 'Ukraine'],\n",
    "     'population': [17.04, 143.5, 9.5, 45.5],\n",
    "     'square': [2724902, 17125191, 207600, 603628]\n",
    " })\n",
    "df['Density'] = df.population/df.square\n",
    "df.rename(columns={'country': 'Страна', 'square': 'Площадь'}, inplace=True)\n",
    "df"
   ]
  },
  {
   "cell_type": "code",
   "execution_count": null,
   "id": "4363a5bb",
   "metadata": {},
   "outputs": [],
   "source": []
  }
 ],
 "metadata": {
  "kernelspec": {
   "display_name": "Python 3 (ipykernel)",
   "language": "python",
   "name": "python3"
  },
  "language_info": {
   "codemirror_mode": {
    "name": "ipython",
    "version": 3
   },
   "file_extension": ".py",
   "mimetype": "text/x-python",
   "name": "python",
   "nbconvert_exporter": "python",
   "pygments_lexer": "ipython3",
   "version": "3.9.7"
  }
 },
 "nbformat": 4,
 "nbformat_minor": 5
}
