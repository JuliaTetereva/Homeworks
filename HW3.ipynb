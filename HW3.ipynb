{
 "cells": [
  {
   "cell_type": "code",
   "execution_count": 7,
   "id": "47156119",
   "metadata": {},
   "outputs": [
    {
     "name": "stdout",
     "output_type": "stream",
     "text": [
      "3.0\n"
     ]
    }
   ],
   "source": [
    "from math import sqrt\n",
    "def koren (a,n=2): \n",
    "    return a**(1/n)\n",
    "b=koren(27,3)\n",
    "print(b)"
   ]
  },
  {
   "cell_type": "code",
   "execution_count": 13,
   "id": "7c1926f7",
   "metadata": {},
   "outputs": [
    {
     "name": "stdout",
     "output_type": "stream",
     "text": [
      "Недопустимое расширение файла\n"
     ]
    }
   ],
   "source": [
    "def exten(file, extensions):\n",
    "    txe=''\n",
    "    for i in range(len(file)-1,0,-1): \n",
    "        if file[i]!='.':\n",
    "            txe=txe+file[i]\n",
    "        else:\n",
    "            break\n",
    "    ext=txe[::-1]\n",
    "    if ext in extensions:\n",
    "        print('Допустимое расширение файла')\n",
    "    else: \n",
    "        print('Недопустимое расширение файла') \n",
    "\n",
    "file='Моя диссертац.gif'\n",
    "extensions = ['png', 'jpg', 'jpeg', 'gif', 'svg']\n",
    "exten(file,extensions)\n"
   ]
  },
  {
   "cell_type": "code",
   "execution_count": 14,
   "id": "03b49fb2",
   "metadata": {},
   "outputs": [
    {
     "name": "stdout",
     "output_type": "stream",
     "text": [
      "{1: 10, 2: 20, 3: 30, 4: 40, 5: 50, 6: 60}\n"
     ]
    }
   ],
   "source": [
    "dict_a = {1:10, 2:20}\n",
    "dict_b = {3:30, 4:40}\n",
    "dict_c = {5:50, 6:60}\n",
    "dict_a.update(dict_b)\n",
    "dict_a.update(dict_c)\n",
    "print(dict_a)"
   ]
  },
  {
   "cell_type": "code",
   "execution_count": 27,
   "id": "4c09c45b",
   "metadata": {},
   "outputs": [
    {
     "name": "stdout",
     "output_type": "stream",
     "text": [
      "54\n"
     ]
    }
   ],
   "source": [
    "def summa(c):\n",
    "    c=str(c)\n",
    "    k=tuple(c)\n",
    "    s=0\n",
    "    for i in k:\n",
    "        s=s+int(i)\n",
    "    print(s)\n",
    "summa(875648349)\n"
   ]
  },
  {
   "cell_type": "code",
   "execution_count": 34,
   "id": "5294da2d",
   "metadata": {},
   "outputs": [
    {
     "name": "stdout",
     "output_type": "stream",
     "text": [
      "Уникальны\n"
     ]
    }
   ],
   "source": [
    "numbers=[1,4,5]\n",
    "def unic(numbers):\n",
    "    t=set(numbers)\n",
    "    t=list(t)\n",
    "    if numbers==t:\n",
    "        print('Уникальны')\n",
    "    else:\n",
    "        print('Неуникальны')\n",
    "unic(numbers)"
   ]
  },
  {
   "cell_type": "code",
   "execution_count": 16,
   "id": "fc57984d",
   "metadata": {},
   "outputs": [
    {
     "name": "stdout",
     "output_type": "stream",
     "text": [
      "Номер 1 --> png\n",
      "Номер 2 --> jpg\n",
      "Номер 3 --> jpeg\n",
      "Номер 4 --> gif\n",
      "Номер 5 --> svg\n"
     ]
    }
   ],
   "source": [
    "def print_list(list):\n",
    "    for i in range(len(list)):\n",
    "        print('Номер', i+1, '-->',list[i])\n",
    "print_list(extensions)"
   ]
  },
  {
   "cell_type": "code",
   "execution_count": 18,
   "id": "ca8a9852",
   "metadata": {},
   "outputs": [
    {
     "name": "stdout",
     "output_type": "stream",
     "text": [
      "Ключ key1 -> 2\n",
      "Ключ key3 -> False\n",
      "Ключ Приветствие -> Hello\n"
     ]
    }
   ],
   "source": [
    "def print_dict(my_dict):\n",
    "    for key, value in my_dict.items():\n",
    "        print('Ключ',key, '->', value)\n",
    "print_dict({\"key1\": 2, \"key3\": False, \"Приветствие\": \"Hello\"})"
   ]
  },
  {
   "cell_type": "code",
   "execution_count": 19,
   "id": "a007ba49",
   "metadata": {},
   "outputs": [
    {
     "name": "stdout",
     "output_type": "stream",
     "text": [
      "Ключ key1 -> 1\n",
      "Ключ key2 -> [1, 2, 3, 4]\n",
      "Ключ key3 -> Hello\n",
      "Ключ key4 -> {'ciao': 'Mondo', 'Привет': 'О дивный мир'}\n"
     ]
    }
   ],
   "source": [
    "def print_overlord(mydict):\n",
    "    if type(mydict)==list:\n",
    "        print_list(mydict)\n",
    "    elif type(mydict)==dict:\n",
    "        print_dict(mydict)\n",
    "    else:\n",
    "        print(mydict)\n",
    "print_overlord(dict(key1=1,\n",
    "            key2=[1, 2, 3, 4], \n",
    "            key3='Hello', \n",
    "            key4={\"ciao\":\"Mondo\", \"Привет\": \"О дивный мир\"}))"
   ]
  }
 ],
 "metadata": {
  "kernelspec": {
   "display_name": "Python 3 (ipykernel)",
   "language": "python",
   "name": "python3"
  },
  "language_info": {
   "codemirror_mode": {
    "name": "ipython",
    "version": 3
   },
   "file_extension": ".py",
   "mimetype": "text/x-python",
   "name": "python",
   "nbconvert_exporter": "python",
   "pygments_lexer": "ipython3",
   "version": "3.9.7"
  }
 },
 "nbformat": 4,
 "nbformat_minor": 5
}
