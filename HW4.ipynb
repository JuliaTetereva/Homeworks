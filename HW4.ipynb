{
 "cells": [
  {
   "cell_type": "code",
   "execution_count": 22,
   "id": "9403ab88",
   "metadata": {},
   "outputs": [
    {
     "name": "stdout",
     "output_type": "stream",
     "text": [
      "Список отстающих:\n",
      "Дмитриев Н.  2\n",
      "Котов Д.  2\n",
      "Бирюкова Н.  1\n",
      "Лемонов Ю.  2\n",
      "Средний балл: 3\n"
     ]
    }
   ],
   "source": [
    "d={}\n",
    "summa=0\n",
    "c=0\n",
    "print('Список отстающих:')\n",
    "with open('класс.txt', 'r', encoding='utf-8') as file:\n",
    "    lines = file.read().split('\\n')\n",
    "    for i in lines:\n",
    "        d[i[:-1]]=int(i[-1])\n",
    "    for i in d.values():\n",
    "        summa+=i\n",
    "        c+=1\n",
    "    sr=summa//c\n",
    "    for key, value in d.items():\n",
    "        if value < sr:\n",
    "            print(key,value)\n",
    "print('Средний балл:',sr)\n",
    "  "
   ]
  },
  {
   "cell_type": "code",
   "execution_count": 5,
   "id": "f694101d",
   "metadata": {},
   "outputs": [
    {
     "name": "stdout",
     "output_type": "stream",
     "text": [
      "Лекций: 6\n",
      "Практических: 11\n",
      "Лабораторных: 2\n"
     ]
    }
   ],
   "source": [
    "lec, pract, lab = 0, 0, 0\n",
    "with open('расписание.txt', 'r', encoding='utf-8') as file:\n",
    "    for i in file:\n",
    "        if 'лек' in i:\n",
    "            lec+=1\n",
    "        elif 'лаб' in i:\n",
    "            lab+=1\n",
    "        elif 'прак' in i:\n",
    "            pract+=1\n",
    "print('Лекций:', lec)\n",
    "print('Практических:', pract)\n",
    "print('Лабораторных:', lab)"
   ]
  },
  {
   "cell_type": "code",
   "execution_count": 27,
   "id": "b68332a6",
   "metadata": {},
   "outputs": [
    {
     "name": "stdout",
     "output_type": "stream",
     "text": [
      "['.ipynb_checkpoints', 'Class1.ipynb', 'Class2.ipynb', 'Class4.ipynb', 'HW1.ipynb', 'HW2.ipynb', 'HW3.ipynb', 'L5.ipynb', 'some_file.txt', 'test.py', 'Untitled.ipynb', 'класс.txt', 'расписание.txt']\n"
     ]
    }
   ],
   "source": [
    "import os\n",
    "directory = 'C:\\\\Users\\\\yuliya.tetereva\\\\misis_python'\n",
    "files = os.listdir(directory)\n",
    "print(files)"
   ]
  },
  {
   "cell_type": "code",
   "execution_count": 54,
   "id": "f6675af0",
   "metadata": {},
   "outputs": [
    {
     "name": "stdout",
     "output_type": "stream",
     "text": [
      "Самое длинное храброславленный\n",
      "Наиболее часто встречающееся: [('И', 5)]\n"
     ]
    }
   ],
   "source": [
    "import collections\n",
    "l=[]\n",
    "newlist=[]\n",
    "with open('text.txt', 'r', encoding='utf-8') as file:\n",
    "    lines = file.read().split('\\n')\n",
    "    for s in lines:\n",
    "        l+=s.split(sep=' ')\n",
    "for i in l:\n",
    "    if i=='':\n",
    "        continue\n",
    "    elif i[-1].isalpha()==False:\n",
    "        newlist.append(i[:-1])\n",
    "    else:\n",
    "        newlist.append(i)      \n",
    "counter=collections.Counter(newlist)\n",
    "most_common_element = counter.most_common(1)\n",
    "print('Самое длинное', max(newlist, key=len))\n",
    "print('Наиболее часто встречающееся:',most_common_element)"
   ]
  }
 ],
 "metadata": {
  "kernelspec": {
   "display_name": "Python 3 (ipykernel)",
   "language": "python",
   "name": "python3"
  },
  "language_info": {
   "codemirror_mode": {
    "name": "ipython",
    "version": 3
   },
   "file_extension": ".py",
   "mimetype": "text/x-python",
   "name": "python",
   "nbconvert_exporter": "python",
   "pygments_lexer": "ipython3",
   "version": "3.9.7"
  }
 },
 "nbformat": 4,
 "nbformat_minor": 5
}
